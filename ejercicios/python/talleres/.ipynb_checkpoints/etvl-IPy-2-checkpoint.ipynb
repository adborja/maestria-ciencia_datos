{
 "cells": [
  {
   "cell_type": "markdown",
   "metadata": {},
   "source": [
    "**Recuerde no agregar o quitar celdas en este notebook, ni modificar su tipo. Si lo hace, el sistema automaticamente lo calificará con cero punto cero (0.0)**"
   ]
  },
  {
   "cell_type": "markdown",
   "metadata": {},
   "source": [
    "# Descripción"
   ]
  },
  {
   "cell_type": "markdown",
   "metadata": {},
   "source": [
    "Esta tarea tiene como fin ayudarlo a profundizar sus conocimientos en programación con el lenguaje Python usando Pandas. En la siguiente celda importaré algunas librerias y leeré algunos archivos por usted."
   ]
  },
  {
   "cell_type": "code",
   "execution_count": 2,
   "metadata": {
    "collapsed": true
   },
   "outputs": [],
   "source": [
    "###__test__\n",
    "import pandas\n",
    "customer    = pandas.read_table('customer',    sep = ',', decimal = '.')\n",
    "employee    = pandas.read_table('employee',    sep = ',', decimal = '.')\n",
    "family      = pandas.read_table('family',      sep = ',', decimal = '.')\n",
    "order2000   = pandas.read_table('order2000',   sep = ',', decimal = '.')\n",
    "order2001   = pandas.read_table('order2001',   sep = ',', decimal = '.')\n",
    "order2002   = pandas.read_table('order2002',   sep = ',', decimal = '.')\n",
    "order2003   = pandas.read_table('order2003',   sep = ',', decimal = '.')\n",
    "order2004   = pandas.read_table('order2004',   sep = ',', decimal = '.')\n",
    "order2005   = pandas.read_table('order2005',   sep = ',', decimal = '.')\n",
    "order2006   = pandas.read_table('order2006',   sep = ',', decimal = '.')\n",
    "order2007   = pandas.read_table('order2007',   sep = ',', decimal = '.')\n",
    "order2008   = pandas.read_table('order2008',   sep = ',', decimal = '.')\n",
    "order2009   = pandas.read_table('order2009',   sep = ',', decimal = '.')\n",
    "order2010   = pandas.read_table('order2010',   sep = ',', decimal = '.')\n",
    "order2011   = pandas.read_table('order2011',   sep = ',', decimal = '.')\n",
    "order2012   = pandas.read_table('order2012',   sep = ',', decimal = '.')\n",
    "order2013   = pandas.read_table('order2013',   sep = ',', decimal = '.')\n",
    "order2014   = pandas.read_table('order2014',   sep = ',', decimal = '.')\n",
    "order2015   = pandas.read_table('order2015',   sep = ',', decimal = '.')\n",
    "order2016   = pandas.read_table('order2016',   sep = ',', decimal = '.')\n",
    "orderdetail = pandas.read_table('orderdetail', sep = ',', decimal = '.')\n",
    "product     = pandas.read_table('product',     sep = ',', decimal = '.')\n",
    "supplier    = pandas.read_table('supplier',    sep = ',', decimal = '.')"
   ]
  },
  {
   "cell_type": "markdown",
   "metadata": {},
   "source": [
    "# Problema 1"
   ]
  },
  {
   "cell_type": "markdown",
   "metadata": {},
   "source": [
    "Imprima el valor del campo `ssn` (uno por línea) para los registros 2, 6 y 8 del archivo `employee`."
   ]
  },
  {
   "cell_type": "code",
   "execution_count": 3,
   "metadata": {},
   "outputs": [
    {
     "name": "stdout",
     "output_type": "stream",
     "text": [
      "496-99-2998\n",
      "323-35-2171\n",
      "496-24-5751\n"
     ]
    }
   ],
   "source": [
    "print(employee['ssn'][1])\n",
    "print(employee['ssn'][5])\n",
    "print(employee['ssn'][7])"
   ]
  },
  {
   "cell_type": "markdown",
   "metadata": {},
   "source": [
    "# Problema 2"
   ]
  },
  {
   "cell_type": "markdown",
   "metadata": {},
   "source": [
    "Imprima el total de registros (uno por línea) para los archivos `employee`, `product` y `orderdetail`."
   ]
  },
  {
   "cell_type": "code",
   "execution_count": 4,
   "metadata": {},
   "outputs": [
    {
     "name": "stdout",
     "output_type": "stream",
     "text": [
      "50\n",
      "146\n",
      "25946\n"
     ]
    }
   ],
   "source": [
    "print(len(employee))\n",
    "print(len(product))\n",
    "print(len(orderdetail))"
   ]
  },
  {
   "cell_type": "markdown",
   "metadata": {},
   "source": [
    "# Problema 3"
   ]
  },
  {
   "cell_type": "markdown",
   "metadata": {},
   "source": [
    "Escriba una función `f` que reciba el nombre de un departamento y cuente cuantos registros hay para dicho departamento en el archivo `employee`. "
   ]
  },
  {
   "cell_type": "code",
   "execution_count": 5,
   "metadata": {
    "collapsed": true
   },
   "outputs": [],
   "source": [
    "\n",
    "def f(departamento):\n",
    "    dep = employee.loc[employee['department'] == departamento]\n",
    "    return len(dep)\n",
    "    "
   ]
  },
  {
   "cell_type": "code",
   "execution_count": 6,
   "metadata": {},
   "outputs": [
    {
     "name": "stdout",
     "output_type": "stream",
     "text": [
      "4\n",
      "3\n",
      "3\n",
      "1\n",
      "21\n"
     ]
    }
   ],
   "source": [
    "###__test__\n",
    "print(f(\"Accounting\"))\n",
    "print(f(\"Advertising\"))\n",
    "print(f(\"Asset Management\"))\n",
    "print(f(\"Media Relations\"))\n",
    "print(f(\"Sales and Marketing\"))"
   ]
  },
  {
   "cell_type": "markdown",
   "metadata": {},
   "source": [
    "# Problema 4"
   ]
  },
  {
   "cell_type": "markdown",
   "metadata": {},
   "source": [
    "Imprima una tabla con la cantidad de empleados nacidos por año, ordenada por año y un año por línea. Use un espacio en blanco para separar el año y la cantidad de personas; por ejemplo, '1969 2'. "
   ]
  },
  {
   "cell_type": "code",
   "execution_count": 7,
   "metadata": {},
   "outputs": [
    {
     "name": "stdout",
     "output_type": "stream",
     "text": [
      "1969 2\n",
      "1970 2\n",
      "1971 5\n",
      "1972 1\n",
      "1973 1\n",
      "1974 1\n",
      "1975 2\n",
      "1976 4\n",
      "1977 3\n",
      "1978 1\n",
      "1979 5\n",
      "1980 4\n",
      "1981 2\n",
      "1982 2\n",
      "1983 1\n",
      "1984 2\n",
      "1985 3\n",
      "1986 3\n",
      "1987 1\n",
      "1988 3\n",
      "1990 2\n"
     ]
    }
   ],
   "source": [
    "from datetime import datetime as dt\n",
    "\n",
    "def string_to_date(string, _format):\n",
    "    return dt.strptime(string, _format)\n",
    "\n",
    "emp_birthdates = [string_to_date(d, '%a+%Y-%m-%d+%H:%M:%S').year for d in employee['birthdate'].tolist()]\n",
    "years_map = {x:emp_birthdates.count(x) for x in emp_birthdates}\n",
    "\n",
    "for years_map_key in sorted(years_map.keys()):\n",
    "    print(str(years_map_key) + ' ' + str(years_map[years_map_key]))"
   ]
  },
  {
   "cell_type": "markdown",
   "metadata": {},
   "source": [
    "# Problema 5"
   ]
  },
  {
   "cell_type": "markdown",
   "metadata": {},
   "source": [
    "Imprima una lista con las ciudades del archivo `employee` ordenadas alfabéticamente y sin repetir ciudad. Imprima una ciudad por renglón. "
   ]
  },
  {
   "cell_type": "code",
   "execution_count": 8,
   "metadata": {},
   "outputs": [
    {
     "name": "stdout",
     "output_type": "stream",
     "text": [
      "BELLEFONTE\n",
      "BLAINE\n",
      "BURNS FLAT\n",
      "CEDAR HILL\n",
      "CHANCELLOR\n",
      "CHARLOTTESVILLE\n",
      "CHESHIRE\n",
      "COPELAND\n",
      "FT MITCHELL\n",
      "GARRISON\n",
      "GRANDVIEW\n",
      "MANISTIQUE\n",
      "MONTCLAIR\n",
      "PAWCATUCK\n",
      "RIDGEFIELD\n",
      "RUIDOSO\n",
      "SANTA BARBARA\n",
      "SARASOTA\n",
      "TALLASSEE\n",
      "TAWAS CITY\n",
      "TEHACHAPI\n",
      "TERRA\n",
      "WINTER HAVEN\n"
     ]
    }
   ],
   "source": [
    "emp_cities_list = employee['city'].tolist()\n",
    "\n",
    "emp_cities_set = sorted(set(emp_cities_list))\n",
    "\n",
    "print(*emp_cities_set, sep = '\\n')"
   ]
  },
  {
   "cell_type": "markdown",
   "metadata": {},
   "source": [
    "# Problema 6"
   ]
  },
  {
   "cell_type": "markdown",
   "metadata": {},
   "source": [
    "Imprima una lista con las ciudades del archivo `employee` ordenadas alfabéticamente indicando cuántas veces aparece cada ciudad en el archivo. Imprima una ciudad por renglón. Separe la ciudad y la cantidad por un espacio en blanco; por ejemplo: 'BELLEFONTE 3'."
   ]
  },
  {
   "cell_type": "code",
   "execution_count": 9,
   "metadata": {},
   "outputs": [
    {
     "name": "stdout",
     "output_type": "stream",
     "text": [
      "BELLEFONTE 3\n",
      "BLAINE 1\n",
      "BURNS FLAT 2\n",
      "CEDAR HILL 2\n",
      "CHANCELLOR 2\n",
      "CHARLOTTESVILLE 1\n",
      "CHESHIRE 1\n",
      "COPELAND 5\n",
      "FT MITCHELL 1\n",
      "GARRISON 2\n",
      "GRANDVIEW 2\n",
      "MANISTIQUE 2\n",
      "MONTCLAIR 3\n",
      "PAWCATUCK 4\n",
      "RIDGEFIELD 1\n",
      "RUIDOSO 1\n",
      "SANTA BARBARA 2\n",
      "SARASOTA 5\n",
      "TALLASSEE 1\n",
      "TAWAS CITY 2\n",
      "TEHACHAPI 1\n",
      "TERRA 3\n",
      "WINTER HAVEN 3\n"
     ]
    }
   ],
   "source": [
    "emp_cities_map = {x:emp_cities_list.count(x) for x in emp_cities_list}\n",
    "\n",
    "for emp_cities_map_key in sorted(emp_cities_map.keys()):\n",
    "    print(str(emp_cities_map_key) + ' ' + str(emp_cities_map[emp_cities_map_key]))"
   ]
  },
  {
   "cell_type": "markdown",
   "metadata": {},
   "source": [
    "# Problema 7"
   ]
  },
  {
   "cell_type": "markdown",
   "metadata": {},
   "source": [
    "Imprima, por cada ciudad diferente del archivo `employee`, cuántos registros quedan si se eliminan todos los registros que contienen dicha ciudad. Imprima la lista ordenada alfabéticamente. Separe la ciudad y la cantidad usando un espacio en blanco; por ejemplo: `'BELLEFONTE 47'`."
   ]
  },
  {
   "cell_type": "code",
   "execution_count": 10,
   "metadata": {},
   "outputs": [
    {
     "name": "stdout",
     "output_type": "stream",
     "text": [
      "BELLEFONTE 47\n",
      "BLAINE 49\n",
      "BURNS FLAT 48\n",
      "CEDAR HILL 48\n",
      "CHANCELLOR 48\n",
      "CHARLOTTESVILLE 49\n",
      "CHESHIRE 49\n",
      "COPELAND 45\n",
      "FT MITCHELL 49\n",
      "GARRISON 48\n",
      "GRANDVIEW 48\n",
      "MANISTIQUE 48\n",
      "MONTCLAIR 47\n",
      "PAWCATUCK 46\n",
      "RIDGEFIELD 49\n",
      "RUIDOSO 49\n",
      "SANTA BARBARA 48\n",
      "SARASOTA 45\n",
      "TALLASSEE 49\n",
      "TAWAS CITY 48\n",
      "TEHACHAPI 49\n",
      "TERRA 47\n",
      "WINTER HAVEN 47\n"
     ]
    }
   ],
   "source": [
    "emp_count_cities = len(emp_cities_list)\n",
    "\n",
    "for key in sorted(emp_cities_map.keys()):\n",
    "    emp_cities_map[key] = emp_count_cities - emp_cities_map[key]\n",
    "    print(str(key) + ' ' + str(emp_cities_map[key]))"
   ]
  },
  {
   "cell_type": "markdown",
   "metadata": {},
   "source": [
    "# Problema 8"
   ]
  },
  {
   "cell_type": "markdown",
   "metadata": {},
   "source": [
    "Escriba una función que reciba el nombre completo de un hijo (campo `fullname` del archivo `family`), y devuelva el primer nombre (`fullname`) del padre. "
   ]
  },
  {
   "cell_type": "code",
   "execution_count": 11,
   "metadata": {
    "collapsed": true
   },
   "outputs": [],
   "source": [
    "def f(fullname):\n",
    "    # Obtener persona por nombre\n",
    "    p = family.loc[family['fullname'] == fullname]\n",
    "    parent_id = p['parent.id']\n",
    "    parent = family.loc[family['Unnamed: 0'] == int(parent_id)]\n",
    "    return parent.iloc[0]['fullname'].split()[0]"
   ]
  },
  {
   "cell_type": "code",
   "execution_count": 12,
   "metadata": {},
   "outputs": [
    {
     "name": "stdout",
     "output_type": "stream",
     "text": [
      "Catalina\n",
      "Viva\n",
      "Shirley\n",
      "Cecelia\n"
     ]
    }
   ],
   "source": [
    "###__test__\n",
    "print(f('Jean Bailey'))\n",
    "print(f('Berneice Neil'))\n",
    "print(f('Mammie Montano'))\n",
    "print(f('Nettie Beasley'))"
   ]
  },
  {
   "cell_type": "markdown",
   "metadata": {},
   "source": [
    "# Problema 9"
   ]
  },
  {
   "cell_type": "markdown",
   "metadata": {},
   "source": [
    "Escriba una función que reciba el número de orden (`order.id`) y devuelva el nombre completo (`fullname`) del empleado que la atendio."
   ]
  },
  {
   "cell_type": "code",
   "execution_count": 33,
   "metadata": {},
   "outputs": [],
   "source": [
    "# Concatenando ordenes\n",
    "orders = [order2000,\n",
    "         order2001,\n",
    "         order2002,\n",
    "         order2003,\n",
    "         order2004,\n",
    "         order2005,\n",
    "         order2006,\n",
    "         order2007,\n",
    "         order2008,\n",
    "         order2009,\n",
    "         order2010,\n",
    "         order2011,\n",
    "         order2012,\n",
    "         order2013,\n",
    "         order2014,\n",
    "         order2015,\n",
    "         order2016]\n",
    "orders = pandas.concat(orders)\n",
    "\n",
    "def f(orderid):\n",
    "    # Obtener order por orderid\n",
    "    o = orders.loc[orders['order.id'] == orderid]\n",
    "    employee_id = int(o['employee.id'])\n",
    "    # Obtener empleado por id\n",
    "    e = employee.loc[employee['employee.id'] == employee_id]\n",
    "    return e.iloc[0]['fullname']"
   ]
  },
  {
   "cell_type": "code",
   "execution_count": 34,
   "metadata": {},
   "outputs": [
    {
     "name": "stdout",
     "output_type": "stream",
     "text": [
      "Christy Petry\n",
      "Damaris Parry\n",
      "Bailey Beasley\n"
     ]
    }
   ],
   "source": [
    "###__test__\n",
    "print(f(309))\n",
    "print(f(653))\n",
    "print(f(996))"
   ]
  },
  {
   "cell_type": "markdown",
   "metadata": {},
   "source": [
    "# Problema 10"
   ]
  },
  {
   "cell_type": "markdown",
   "metadata": {},
   "source": [
    "Escriba una función que reciba el número de orden (`order.id`) y devuelva el nombre completo (`fullname`) del cliente que la solicitó."
   ]
  },
  {
   "cell_type": "code",
   "execution_count": 41,
   "metadata": {
    "collapsed": true
   },
   "outputs": [],
   "source": [
    "def f(orderid):\n",
    "    # Obtener order por orderid\n",
    "    o = orders.loc[orders['order.id'] == orderid]\n",
    "    customer_id = int(o['customer.id'])\n",
    "    # Obtener cliente por id\n",
    "    c = customer.loc[customer['customer.id'] == customer_id]\n",
    "    return c.iloc[0]['fullname']"
   ]
  },
  {
   "cell_type": "code",
   "execution_count": 42,
   "metadata": {},
   "outputs": [
    {
     "name": "stdout",
     "output_type": "stream",
     "text": [
      "Carmen Zimmerman\n",
      "Theodore Pernell\n",
      "Marilynn Laws\n"
     ]
    }
   ],
   "source": [
    "###__test__\n",
    "print(f(309))\n",
    "print(f(653))\n",
    "print(f(996))"
   ]
  },
  {
   "cell_type": "markdown",
   "metadata": {},
   "source": [
    "# Problema 11"
   ]
  },
  {
   "cell_type": "markdown",
   "metadata": {},
   "source": [
    "Escriba una función que reciba el nombre de un empleado (`fullname`) y retorne la cantidad de órdenes atendidas por él."
   ]
  },
  {
   "cell_type": "code",
   "execution_count": 53,
   "metadata": {
    "collapsed": true
   },
   "outputs": [],
   "source": [
    "def f(fullname):\n",
    "    # Obtener empleado por fullname\n",
    "    e = employee.loc[employee['fullname'] == fullname]\n",
    "    # Obtener employee_id\n",
    "    employee_id = int(e['employee.id'])\n",
    "    emp_orders = orders.loc[orders['employee.id'] == employee_id]\n",
    "    emp_orders_list = emp_orders['employee.id'].tolist()\n",
    "    emp_orders_counter_map = {x:emp_orders_list.count(x) for x in emp_orders_list}\n",
    "    \n",
    "    return emp_orders_counter_map[employee_id]"
   ]
  },
  {
   "cell_type": "code",
   "execution_count": 54,
   "metadata": {},
   "outputs": [
    {
     "name": "stdout",
     "output_type": "stream",
     "text": [
      "238\n",
      "225\n",
      "270\n"
     ]
    }
   ],
   "source": [
    "###__test__\n",
    "print(f('Christy Petry'))\n",
    "print(f('Gisela Strong'))\n",
    "print(f('Ellis Ervin'))"
   ]
  },
  {
   "cell_type": "markdown",
   "metadata": {},
   "source": [
    "# Problema 12"
   ]
  },
  {
   "cell_type": "markdown",
   "metadata": {},
   "source": [
    "Escriba una función que reciba el nombre de un empleado y retorne el valor mínino del campo `order.id` del total de ordenes que atendió. "
   ]
  },
  {
   "cell_type": "code",
   "execution_count": 123,
   "metadata": {
    "collapsed": true
   },
   "outputs": [],
   "source": [
    "def f(fullname):\n",
    "    # Obtener empleado por fullname\n",
    "    e = employee.loc[employee['fullname'] == fullname]\n",
    "    # Obtener employee_id\n",
    "    employee_id = int(e['employee.id'])\n",
    "    emp_orders = orders.loc[orders['employee.id'] == employee_id]\n",
    "    orders_ids = emp_orders['order.id'].tolist()\n",
    "    return min(orders_ids)"
   ]
  },
  {
   "cell_type": "code",
   "execution_count": 124,
   "metadata": {},
   "outputs": [
    {
     "name": "stdout",
     "output_type": "stream",
     "text": [
      "14\n",
      "27\n",
      "20\n"
     ]
    }
   ],
   "source": [
    "###__test__\n",
    "print(f('Christy Petry'))\n",
    "print(f('Gisela Strong'))\n",
    "print(f('Ellis Ervin'))"
   ]
  },
  {
   "cell_type": "markdown",
   "metadata": {},
   "source": [
    "# Problema 13"
   ]
  },
  {
   "cell_type": "markdown",
   "metadata": {},
   "source": [
    "Escriba una función que reciba el `order.id` de una orden y retorne el cálculo del valor total de la orden."
   ]
  },
  {
   "cell_type": "code",
   "execution_count": 125,
   "metadata": {
    "collapsed": true
   },
   "outputs": [],
   "source": [
    "def f(orderid):\n",
    "    # Buscar orden por id\n",
    "    # o = orders.loc[orders['order.id'] == orderid]\n",
    "    od = orderdetail.loc[orderdetail['order.id'] == orderid]\n",
    "    quantity_list = od['quantity'].tolist()\n",
    "    price_list = od['price'].tolist()\n",
    "    return sum([q * p for q, p in zip(quantity_list, price_list)])"
   ]
  },
  {
   "cell_type": "code",
   "execution_count": 126,
   "metadata": {
    "scrolled": false
   },
   "outputs": [
    {
     "name": "stdout",
     "output_type": "stream",
     "text": [
      "2572\n",
      "2979\n",
      "9317\n"
     ]
    }
   ],
   "source": [
    "###__test__\n",
    "print(f(1))\n",
    "print(f(2))\n",
    "print(f(3))"
   ]
  },
  {
   "cell_type": "markdown",
   "metadata": {},
   "source": [
    "# Problema 14"
   ]
  },
  {
   "cell_type": "markdown",
   "metadata": {},
   "source": [
    "Imprima la cantidad de empleados que nacieron en cada uno de los trimestres (`Q1`, `Q2`, `Q3`, `Q4`) del año. Imprima un trimestre por reglón, separando las cantidades por un espacio en blanco. Por ejemplo: `'Q1 18'`. "
   ]
  },
  {
   "cell_type": "code",
   "execution_count": 104,
   "metadata": {},
   "outputs": [
    {
     "name": "stdout",
     "output_type": "stream",
     "text": [
      "Q1 16\n",
      "Q2 9\n",
      "Q3 14\n",
      "Q4 11\n"
     ]
    }
   ],
   "source": [
    "from datetime import datetime as dt\n",
    "from collections import defaultdict\n",
    "\n",
    "def string_to_date(string, _format):\n",
    "    return dt.strptime(string, _format)\n",
    "\n",
    "date_format = '%a+%Y-%m-%d+%H:%M:%S'\n",
    "emp_bdate_months = [string_to_date(bd, date_format).month for bd in employee['birthdate'].tolist()]\n",
    "\n",
    "quarters = defaultdict(list)\n",
    "\n",
    "for month in emp_bdate_months:\n",
    "    if month in [1, 2, 3]:\n",
    "        quarters['Q1'].append(1)\n",
    "    elif month in [4, 5, 6]:\n",
    "        quarters['Q2'].append(1)\n",
    "    elif month in [7, 8, 9]:\n",
    "        quarters['Q3'].append(1)\n",
    "    else:\n",
    "        quarters['Q4'].append(1)\n",
    "    \n",
    "for q_map_key in sorted(quarters.keys()):\n",
    "    print(str(q_map_key) + ' ' + str(sum(quarters[q_map_key])))\n"
   ]
  },
  {
   "cell_type": "markdown",
   "metadata": {},
   "source": [
    "# Problema 15"
   ]
  },
  {
   "cell_type": "markdown",
   "metadata": {},
   "source": [
    "Escriba una función que reciba un grupo de cuatro dígitos e imprima la cantidad de veces que aparece dicho número en el segundo grupo de dígitos de todos los números telefónicos."
   ]
  },
  {
   "cell_type": "code",
   "execution_count": 121,
   "metadata": {
    "collapsed": true
   },
   "outputs": [],
   "source": [
    "def f(num):\n",
    "    customer_phones = customer['phone'].tolist()\n",
    "    employee_phones = employee['phone'].tolist()\n",
    "    supplier_phones = supplier['phone'].tolist()\n",
    "    all_phones = customer_phones + employee_phones + supplier_phones\n",
    "    parts = [part.split('-')[1] for part in all_phones]\n",
    "    return parts.count(num)"
   ]
  },
  {
   "cell_type": "code",
   "execution_count": 122,
   "metadata": {},
   "outputs": [
    {
     "name": "stdout",
     "output_type": "stream",
     "text": [
      "23\n",
      "28\n",
      "26\n"
     ]
    }
   ],
   "source": [
    "###__test__\n",
    "print(f('1289'))\n",
    "print(f('2345'))\n",
    "print(f('4876'))"
   ]
  },
  {
   "cell_type": "markdown",
   "metadata": {},
   "source": [
    "---"
   ]
  }
 ],
 "metadata": {
  "kernelspec": {
   "display_name": "Python 3",
   "language": "python",
   "name": "python3"
  },
  "language_info": {
   "codemirror_mode": {
    "name": "ipython",
    "version": 3
   },
   "file_extension": ".py",
   "mimetype": "text/x-python",
   "name": "python",
   "nbconvert_exporter": "python",
   "pygments_lexer": "ipython3",
   "version": "3.6.3"
  }
 },
 "nbformat": 4,
 "nbformat_minor": 1
}
