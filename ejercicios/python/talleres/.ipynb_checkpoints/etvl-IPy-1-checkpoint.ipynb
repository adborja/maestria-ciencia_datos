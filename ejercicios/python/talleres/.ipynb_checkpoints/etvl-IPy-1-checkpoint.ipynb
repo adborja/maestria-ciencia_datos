{
 "cells": [
  {
   "cell_type": "markdown",
   "metadata": {},
   "source": [
    "**Recuerde no agregar o quitar celdas en este notebook, ni modificar su tipo. Si lo hace, el sistema automaticamente lo calificará con cero punto cero (0.0)**"
   ]
  },
  {
   "cell_type": "markdown",
   "metadata": {},
   "source": [
    "# Descripción"
   ]
  },
  {
   "cell_type": "markdown",
   "metadata": {},
   "source": [
    "Esta tarea tiene como fin ayudarlo a profundizar sus conocimientos en programación con el lenguaje Python usando la PSL (Python Standard Library). En la siguiente celda importaré algunas librerias y leeré algunos archivos por usted."
   ]
  },
  {
   "cell_type": "code",
   "execution_count": 5,
   "metadata": {},
   "outputs": [],
   "source": [
    "###__test__\n",
    "import csv\n",
    "\n",
    "with open('customer',    'r') as f: customer    = list(csv.reader(f, delimiter=',', quoting=csv.QUOTE_NONNUMERIC))\n",
    "with open('employee',    'r') as f: employee    = list(csv.reader(f, delimiter=',', quoting=csv.QUOTE_NONNUMERIC))\n",
    "with open('family',      'r') as f: family      = list(csv.reader(f, delimiter=',', quoting=csv.QUOTE_NONNUMERIC))\n",
    "with open('order2000',   'r') as f: order2000   = list(csv.reader(f, delimiter=',', quoting=csv.QUOTE_NONNUMERIC))\n",
    "with open('order2001',   'r') as f: order2001   = list(csv.reader(f, delimiter=',', quoting=csv.QUOTE_NONNUMERIC))\n",
    "with open('order2002',   'r') as f: order2002   = list(csv.reader(f, delimiter=',', quoting=csv.QUOTE_NONNUMERIC))\n",
    "with open('order2003',   'r') as f: order2003   = list(csv.reader(f, delimiter=',', quoting=csv.QUOTE_NONNUMERIC))\n",
    "with open('order2004',   'r') as f: order2004   = list(csv.reader(f, delimiter=',', quoting=csv.QUOTE_NONNUMERIC))\n",
    "with open('order2005',   'r') as f: order2005   = list(csv.reader(f, delimiter=',', quoting=csv.QUOTE_NONNUMERIC))\n",
    "with open('order2006',   'r') as f: order2006   = list(csv.reader(f, delimiter=',', quoting=csv.QUOTE_NONNUMERIC))\n",
    "with open('order2007',   'r') as f: order2007   = list(csv.reader(f, delimiter=',', quoting=csv.QUOTE_NONNUMERIC))\n",
    "with open('order2008',   'r') as f: order2008   = list(csv.reader(f, delimiter=',', quoting=csv.QUOTE_NONNUMERIC))\n",
    "with open('order2009',   'r') as f: order2009   = list(csv.reader(f, delimiter=',', quoting=csv.QUOTE_NONNUMERIC))\n",
    "with open('order2010',   'r') as f: order2010   = list(csv.reader(f, delimiter=',', quoting=csv.QUOTE_NONNUMERIC))\n",
    "with open('order2011',   'r') as f: order2011   = list(csv.reader(f, delimiter=',', quoting=csv.QUOTE_NONNUMERIC))\n",
    "with open('order2012',   'r') as f: order2012   = list(csv.reader(f, delimiter=',', quoting=csv.QUOTE_NONNUMERIC))\n",
    "with open('order2013',   'r') as f: order2013   = list(csv.reader(f, delimiter=',', quoting=csv.QUOTE_NONNUMERIC))\n",
    "with open('order2014',   'r') as f: order2014   = list(csv.reader(f, delimiter=',', quoting=csv.QUOTE_NONNUMERIC))\n",
    "with open('order2015',   'r') as f: order2015   = list(csv.reader(f, delimiter=',', quoting=csv.QUOTE_NONNUMERIC))\n",
    "with open('order2016',   'r') as f: order2016   = list(csv.reader(f, delimiter=',', quoting=csv.QUOTE_NONNUMERIC))\n",
    "with open('orderdetail', 'r') as f: orderdetail = list(csv.reader(f, delimiter=',', quoting=csv.QUOTE_NONNUMERIC))\n",
    "with open('product',     'r') as f: product     = list(csv.reader(f, delimiter=',', quoting=csv.QUOTE_NONNUMERIC))\n",
    "with open('supplier',    'r') as f: supplier    = list(csv.reader(f, delimiter=',', quoting=csv.QUOTE_NONNUMERIC))"
   ]
  },
  {
   "cell_type": "markdown",
   "metadata": {},
   "source": [
    "# Problema 1"
   ]
  },
  {
   "cell_type": "markdown",
   "metadata": {},
   "source": [
    "Imprima el valor del campo `ssn` (uno por línea) para los registros 2, 6 y 8 del archivo `employee`."
   ]
  },
  {
   "cell_type": "code",
   "execution_count": 6,
   "metadata": {
    "scrolled": false
   },
   "outputs": [
    {
     "name": "stdout",
     "output_type": "stream",
     "text": [
      "496-99-2998\n",
      "323-35-2171\n",
      "496-24-5751\n"
     ]
    }
   ],
   "source": [
    "print(employee[2][4] + '\\n' + employee[6][4] + '\\n' + employee[8][4])"
   ]
  },
  {
   "cell_type": "markdown",
   "metadata": {},
   "source": [
    "# Problema 2"
   ]
  },
  {
   "cell_type": "markdown",
   "metadata": {},
   "source": [
    "Imprima el total de registros (uno por línea) para los archivos `employee`, `product` y `orderdetail`."
   ]
  },
  {
   "cell_type": "code",
   "execution_count": 7,
   "metadata": {},
   "outputs": [
    {
     "name": "stdout",
     "output_type": "stream",
     "text": [
      "50\n",
      "146\n",
      "25946\n"
     ]
    }
   ],
   "source": [
    "#\n",
    "# escriba su codigo aqui\n",
    "#\n",
    "x = len(employee) - 1\n",
    "y = len(product) - 1 \n",
    "z = len(orderdetail) - 1 \n",
    "\n",
    "print(str(x) + '\\n' + str(y) + '\\n' + str(z))"
   ]
  },
  {
   "cell_type": "markdown",
   "metadata": {},
   "source": [
    "# Problema 3"
   ]
  },
  {
   "cell_type": "markdown",
   "metadata": {},
   "source": [
    "Escriba una función `f` que reciba el nombre de un departamento y cuente cuantos registros hay para dicho departamento en el archivo `employee`. "
   ]
  },
  {
   "cell_type": "code",
   "execution_count": 8,
   "metadata": {
    "collapsed": true
   },
   "outputs": [],
   "source": [
    "def f(departamento):\n",
    "    sublist = [d for d in employee if departamento in d]\n",
    "    print(len(sublist))"
   ]
  },
  {
   "cell_type": "code",
   "execution_count": 9,
   "metadata": {},
   "outputs": [
    {
     "name": "stdout",
     "output_type": "stream",
     "text": [
      "4\n",
      "3\n",
      "3\n",
      "1\n",
      "21\n"
     ]
    }
   ],
   "source": [
    "###__test__\n",
    "f(\"Accounting\")\n",
    "f(\"Advertising\")\n",
    "f(\"Asset Management\")\n",
    "f(\"Media Relations\")\n",
    "f(\"Sales and Marketing\")"
   ]
  },
  {
   "cell_type": "markdown",
   "metadata": {},
   "source": [
    "# Problema 4"
   ]
  },
  {
   "cell_type": "markdown",
   "metadata": {},
   "source": [
    "Imprima una tabla con la cantidad de empleados nacidos por año, ordenada por año y un año por línea. Use un espacio en blanco para separar el año y la cantidad de personas; por ejemplo, '1969 2'. "
   ]
  },
  {
   "cell_type": "code",
   "execution_count": 10,
   "metadata": {
    "scrolled": true
   },
   "outputs": [
    {
     "name": "stdout",
     "output_type": "stream",
     "text": [
      "1969 2\n",
      "1970 2\n",
      "1971 5\n",
      "1972 1\n",
      "1973 1\n",
      "1974 1\n",
      "1975 2\n",
      "1976 4\n",
      "1977 3\n",
      "1978 1\n",
      "1979 5\n",
      "1980 4\n",
      "1981 2\n",
      "1982 2\n",
      "1983 1\n",
      "1984 2\n",
      "1985 3\n",
      "1986 3\n",
      "1987 1\n",
      "1988 3\n",
      "1990 2\n"
     ]
    }
   ],
   "source": [
    "from datetime import datetime as dt\n",
    "from collections import defaultdict\n",
    "\n",
    "class Util:\n",
    "    @staticmethod\n",
    "    def string_to_date(string, _format):\n",
    "        return dt.strptime(string, _format)\n",
    "\n",
    "class Employee(object):\n",
    "    def __init__(self, id, fullname, department, ssn, phone, city, maritalstatus, birthdate, orders):\n",
    "        self.id = id\n",
    "        self.fullname = fullname\n",
    "        self.department = department\n",
    "        self.ssn = ssn\n",
    "        self.phone = phone\n",
    "        self.city = city\n",
    "        self.maritalstatus = maritalstatus\n",
    "        self.birthdate = Util.string_to_date(birthdate, '%a+%Y-%m-%d+%H:%M:%S')\n",
    "        self.orders = orders\n",
    "    \n",
    "    @staticmethod\n",
    "    def from_row(row):\n",
    "        emp = Employee(row[1], row[2], row[3], row[4], row[5], row[6], row[7], row[8], orders = [])\n",
    "        return emp\n",
    "\n",
    "def find_employee_by_fullname(fullname, employees_map):\n",
    "    for key in employees_map.keys():\n",
    "        if employees_map[key].fullname == fullname:\n",
    "            return employees_map[key]\n",
    "    return None\n",
    "    \n",
    "# Llenando diccionario de empleados\n",
    "employees_map = {}\n",
    "for e_row in employee[1:]:\n",
    "    emp = Employee.from_row(e_row)\n",
    "    employees_map[emp.id] = emp\n",
    "    \n",
    "emp_map = defaultdict(list)\n",
    "emp_list = []\n",
    "for e in employee[1:]:\n",
    "    emp = Employee.from_row(e)\n",
    "    emp_list.append(emp)\n",
    "\n",
    "emp_list_by_year = sorted(emp_list, key = lambda e: e.birthdate.year, reverse=False)\n",
    "\n",
    "for e in emp_list_by_year:\n",
    "    key = e.birthdate.year\n",
    "    emp_map[key].append(1)\n",
    "\n",
    "for key in emp_map.keys():\n",
    "    emp_map[key] = sum(emp_map[key])\n",
    "    print(str(key) + ' ' + str(emp_map[key]))\n",
    "\n"
   ]
  },
  {
   "cell_type": "markdown",
   "metadata": {},
   "source": [
    "# Problema 5"
   ]
  },
  {
   "cell_type": "markdown",
   "metadata": {},
   "source": [
    "Imprima una lista con las ciudades del archivo `employee` ordenadas alfabéticamente y sin repetir ciudad. Imprima una ciudad por renglón. "
   ]
  },
  {
   "cell_type": "code",
   "execution_count": 11,
   "metadata": {},
   "outputs": [
    {
     "name": "stdout",
     "output_type": "stream",
     "text": [
      "BELLEFONTE\n",
      "BLAINE\n",
      "BURNS FLAT\n",
      "CEDAR HILL\n",
      "CHANCELLOR\n",
      "CHARLOTTESVILLE\n",
      "CHESHIRE\n",
      "COPELAND\n",
      "FT MITCHELL\n",
      "GARRISON\n",
      "GRANDVIEW\n",
      "MANISTIQUE\n",
      "MONTCLAIR\n",
      "PAWCATUCK\n",
      "RIDGEFIELD\n",
      "RUIDOSO\n",
      "SANTA BARBARA\n",
      "SARASOTA\n",
      "TALLASSEE\n",
      "TAWAS CITY\n",
      "TEHACHAPI\n",
      "TERRA\n",
      "WINTER HAVEN\n"
     ]
    }
   ],
   "source": [
    "# Ordenando empleados por ciudad\n",
    "emp_list_by_city = sorted(emp_list, key = lambda e: e.city)\n",
    "\n",
    "# Obteniendo lista ciudades\n",
    "cities = [e.city for e in emp_list_by_city]\n",
    "\n",
    "# Removiendo ciudades repetidas\n",
    "cities_set = set(cities)\n",
    "\n",
    "# Ordenando ciudades\n",
    "cities_set = sorted(cities_set)\n",
    "\n",
    "print(*cities_set, sep = '\\n')"
   ]
  },
  {
   "cell_type": "markdown",
   "metadata": {},
   "source": [
    "# Problema 6"
   ]
  },
  {
   "cell_type": "markdown",
   "metadata": {},
   "source": [
    "Imprima una lista con las ciudades del archivo `employee` ordenadas alfabéticamente indicando cuántas veces aparece cada ciudad en el archivo. Imprima una ciudad por renglón. Separe la ciudad y la cantidad por un espacio en blanco; por ejemplo: 'BELLEFONTE 3'."
   ]
  },
  {
   "cell_type": "code",
   "execution_count": 12,
   "metadata": {
    "scrolled": true
   },
   "outputs": [
    {
     "name": "stdout",
     "output_type": "stream",
     "text": [
      "BELLEFONTE 3\n",
      "BLAINE 1\n",
      "BURNS FLAT 2\n",
      "CEDAR HILL 2\n",
      "CHANCELLOR 2\n",
      "CHARLOTTESVILLE 1\n",
      "CHESHIRE 1\n",
      "COPELAND 5\n",
      "FT MITCHELL 1\n",
      "GARRISON 2\n",
      "GRANDVIEW 2\n",
      "MANISTIQUE 2\n",
      "MONTCLAIR 3\n",
      "PAWCATUCK 4\n",
      "RIDGEFIELD 1\n",
      "RUIDOSO 1\n",
      "SANTA BARBARA 2\n",
      "SARASOTA 5\n",
      "TALLASSEE 1\n",
      "TAWAS CITY 2\n",
      "TEHACHAPI 1\n",
      "TERRA 3\n",
      "WINTER HAVEN 3\n"
     ]
    }
   ],
   "source": [
    "cities_map = defaultdict(list)\n",
    "\n",
    "for c in cities:\n",
    "    cities_map[c].append(1)\n",
    "\n",
    "for key in cities_map.keys():\n",
    "    cities_map[key] = sum(cities_map[key])\n",
    "    print(str(key) + ' ' + str(cities_map[key]))\n"
   ]
  },
  {
   "cell_type": "markdown",
   "metadata": {},
   "source": [
    "# Problema 7"
   ]
  },
  {
   "cell_type": "markdown",
   "metadata": {},
   "source": [
    "Imprima, por cada ciudad diferente del archivo `employee`, cuántos registros quedan si se eliminan todos los registros que contienen dicha ciudad. Imprima la lista ordenada alfabéticamente. Separe la ciudad y la cantidad usando un espacio en blanco; por ejemplo: `'BELLEFONTE 47'`."
   ]
  },
  {
   "cell_type": "code",
   "execution_count": 13,
   "metadata": {},
   "outputs": [
    {
     "name": "stdout",
     "output_type": "stream",
     "text": [
      "BELLEFONTE 47\n",
      "BLAINE 49\n",
      "BURNS FLAT 48\n",
      "CEDAR HILL 48\n",
      "CHANCELLOR 48\n",
      "CHARLOTTESVILLE 49\n",
      "CHESHIRE 49\n",
      "COPELAND 45\n",
      "FT MITCHELL 49\n",
      "GARRISON 48\n",
      "GRANDVIEW 48\n",
      "MANISTIQUE 48\n",
      "MONTCLAIR 47\n",
      "PAWCATUCK 46\n",
      "RIDGEFIELD 49\n",
      "RUIDOSO 49\n",
      "SANTA BARBARA 48\n",
      "SARASOTA 45\n",
      "TALLASSEE 49\n",
      "TAWAS CITY 48\n",
      "TEHACHAPI 49\n",
      "TERRA 47\n",
      "WINTER HAVEN 47\n"
     ]
    }
   ],
   "source": [
    "count_cities = len(cities)\n",
    "\n",
    "for key in cities_map.keys():\n",
    "    cities_map[key] = count_cities - cities_map[key]\n",
    "    print(str(key) + ' ' + str(cities_map[key]))\n"
   ]
  },
  {
   "cell_type": "markdown",
   "metadata": {},
   "source": [
    "# Problema 8"
   ]
  },
  {
   "cell_type": "markdown",
   "metadata": {},
   "source": [
    "Escriba una función que reciba el nombre completo de un hijo (campo `fullname` del archivo `family`), y devuelva el primer nombre (`fullname`) del padre. "
   ]
  },
  {
   "cell_type": "code",
   "execution_count": 14,
   "metadata": {},
   "outputs": [],
   "source": [
    "class Person(object):\n",
    "    def __init__(self, id, parent_id, fullname, ssn, birthdate):\n",
    "        self.id = id\n",
    "        self.parent_id = parent_id\n",
    "        self.fullname = fullname\n",
    "        self.ssn = ssn\n",
    "        self.birthdate = Util.string_to_date(birthdate, '%a-%Y-%m-%d-%H:%M:%S')\n",
    "    \n",
    "    @staticmethod\n",
    "    def from_row(row):\n",
    "        return Person(int(row[0]), int(row[1]), row[2], row[3], row[4])\n",
    "\n",
    "# Llenando diccionario de personas\n",
    "person_map = {}\n",
    "for p_row in family[1:]:\n",
    "    person = Person.from_row(p_row)\n",
    "    person_map[person.id] = person\n",
    "\n",
    "def find_person_by_id(id):\n",
    "    return person_map[id]\n",
    "\n",
    "def find_person_by_fullname(fullname, people):\n",
    "    for key in people.keys():\n",
    "        if people[key].fullname == fullname:\n",
    "            return people[key]\n",
    "    return None\n",
    "\n",
    "def f(fullname):\n",
    "    p = find_person_by_fullname(fullname, person_map)\n",
    "    if p != None:\n",
    "        parent_id = p.parent_id\n",
    "        parent = find_person_by_id(parent_id)\n",
    "        return parent.fullname\n",
    "    return None"
   ]
  },
  {
   "cell_type": "code",
   "execution_count": 15,
   "metadata": {},
   "outputs": [
    {
     "name": "stdout",
     "output_type": "stream",
     "text": [
      "Catalina Hartnett\n",
      "Viva Montano\n",
      "Shirley Hobbs\n",
      "Cecelia Hartnett\n"
     ]
    }
   ],
   "source": [
    "###__test__\n",
    "print(f('Jean Bailey'))\n",
    "print(f('Berneice Neil'))\n",
    "print(f('Mammie Montano'))\n",
    "print(f('Nettie Beasley'))"
   ]
  },
  {
   "cell_type": "markdown",
   "metadata": {},
   "source": [
    "# Problema 9"
   ]
  },
  {
   "cell_type": "markdown",
   "metadata": {},
   "source": [
    "Escriba una función que reciba el número de orden (`order.id`) y devuelva el nombre completo (`fullname`) del empleado que la atendio."
   ]
  },
  {
   "cell_type": "code",
   "execution_count": 16,
   "metadata": {},
   "outputs": [],
   "source": [
    "class Order(object):\n",
    "    def __init__(self, id, order_id, customer_id, employee_id, date, details):\n",
    "        self.id = id\n",
    "        self.order_id = order_id\n",
    "        self.customer_id = customer_id\n",
    "        self.employee_id = employee_id\n",
    "        self.date = Util.string_to_date(date, '%Y-%m-%d.%a.%H:%M:%S')\n",
    "        self.details = details\n",
    "\n",
    "    @staticmethod\n",
    "    def from_row(row):\n",
    "        return Order(int(row[0]), int(row[1]), row[2], row[3], row[4], details = [])\n",
    "\n",
    "# Concatenar listas de ordenes\n",
    "all_orders = (order2000[1:] + \n",
    "order2001[1:] + \n",
    "order2002[1:] + \n",
    "order2003[1:] + \n",
    "order2004[1:] + \n",
    "order2005[1:] + \n",
    "order2006[1:] +  \n",
    "order2007[1:] +  \n",
    "order2008[1:] + \n",
    "order2009[1:] + \n",
    "order2010[1:] + \n",
    "order2011[1:] + \n",
    "order2012[1:] + \n",
    "order2013[1:] + \n",
    "order2014[1:] + \n",
    "order2015[1:] + \n",
    "order2016[1:])\n",
    "\n",
    "# Cargar ordenes en un diccionario\n",
    "orders_map = {}\n",
    "for order_row in all_orders:\n",
    "    order = Order.from_row(order_row)\n",
    "    orders_map[order.id] = order\n",
    "\n",
    "def f(orderid):\n",
    "    # Obtener order por order id\n",
    "    order = orders_map[orderid]\n",
    "    # Obtener empleado por id\n",
    "    employee = employees_map[order.employee_id]\n",
    "    return employee.fullname"
   ]
  },
  {
   "cell_type": "code",
   "execution_count": 17,
   "metadata": {},
   "outputs": [
    {
     "name": "stdout",
     "output_type": "stream",
     "text": [
      "Christy Petry\n",
      "Damaris Parry\n",
      "Bailey Beasley\n"
     ]
    }
   ],
   "source": [
    "###__test__\n",
    "print(f(309))\n",
    "print(f(653))\n",
    "print(f(996))"
   ]
  },
  {
   "cell_type": "markdown",
   "metadata": {},
   "source": [
    "# Problema 10"
   ]
  },
  {
   "cell_type": "markdown",
   "metadata": {},
   "source": [
    "Escriba una función que reciba el número de orden (`order.id`) y devuelva el nombre completo (`fullname`) del cliente que la solicitó."
   ]
  },
  {
   "cell_type": "code",
   "execution_count": 18,
   "metadata": {},
   "outputs": [],
   "source": [
    "class Customer(object):\n",
    "    def __init__(self, id, company, city, fullname, ssn, phone, birthdate, ccntype, ccn):\n",
    "        self.id = id\n",
    "        self.company = company\n",
    "        self.city = city\n",
    "        self.fullname = fullname\n",
    "        self.ssn = ssn\n",
    "        self.phone = phone\n",
    "        self.birthdate = Util.string_to_date(birthdate, '%a.%Y-%m-%d.%H:%M:%S')\n",
    "        self.ccntype = ccntype\n",
    "        self.ccn = ccn\n",
    "    \n",
    "    @staticmethod\n",
    "    def from_row(row):\n",
    "        return Customer(int(row[0]), row[1], row[2], row[3], row[4], row[5], row[6], row[7], row[8])\n",
    "\n",
    "# Creando diccionario de clientes\n",
    "customers_map = {}\n",
    "for cust_row in customer[1:]:\n",
    "    cust = Customer.from_row(cust_row)\n",
    "    customers_map[cust.id] = cust\n",
    "    \n",
    "def f(orderid):\n",
    "    # Obtener order por order id\n",
    "    order = orders_map[orderid]\n",
    "    # Obtener cliente por id\n",
    "    c = customers_map[order.customer_id]\n",
    "    return c.fullname"
   ]
  },
  {
   "cell_type": "code",
   "execution_count": 19,
   "metadata": {},
   "outputs": [
    {
     "name": "stdout",
     "output_type": "stream",
     "text": [
      "Carmen Zimmerman\n",
      "Theodore Pernell\n",
      "Marilynn Laws\n"
     ]
    }
   ],
   "source": [
    "###__test__\n",
    "print(f(309))\n",
    "print(f(653))\n",
    "print(f(996))"
   ]
  },
  {
   "cell_type": "markdown",
   "metadata": {},
   "source": [
    "# Problema 11"
   ]
  },
  {
   "cell_type": "markdown",
   "metadata": {},
   "source": [
    "Escriba una función que reciba el nombre de un empleado (`fullname`) y retorne la cantidad de órdenes atendidas por él."
   ]
  },
  {
   "cell_type": "code",
   "execution_count": 20,
   "metadata": {
    "collapsed": true
   },
   "outputs": [],
   "source": [
    "def f(fullname):\n",
    "    e = find_employee_by_fullname(fullname, employees_map)\n",
    "    counter = 0\n",
    "    for key in orders_map.keys():\n",
    "        o = orders_map[key]\n",
    "        if o.employee_id == e.id:\n",
    "            counter = counter + 1\n",
    "    return counter"
   ]
  },
  {
   "cell_type": "code",
   "execution_count": 21,
   "metadata": {},
   "outputs": [
    {
     "name": "stdout",
     "output_type": "stream",
     "text": [
      "238\n",
      "225\n",
      "270\n"
     ]
    }
   ],
   "source": [
    "###__test__\n",
    "print(f('Christy Petry'))\n",
    "print(f('Gisela Strong'))\n",
    "print(f('Ellis Ervin'))"
   ]
  },
  {
   "cell_type": "markdown",
   "metadata": {},
   "source": [
    "# Problema 12"
   ]
  },
  {
   "cell_type": "markdown",
   "metadata": {},
   "source": [
    "Escriba una función que reciba el nombre de un empleado y retorne el valor mínino del campo `order.id` del total de ordenes que atendió. "
   ]
  },
  {
   "cell_type": "code",
   "execution_count": 22,
   "metadata": {
    "collapsed": true
   },
   "outputs": [],
   "source": [
    "def f(fullname):\n",
    "    e = find_employee_by_fullname(fullname, employees_map)\n",
    "    for key in orders_map.keys():\n",
    "        o = orders_map[key]\n",
    "        if o.employee_id == e.id:\n",
    "            e.orders.append(o.order_id)\n",
    "    return min(e.orders)\n",
    "    "
   ]
  },
  {
   "cell_type": "code",
   "execution_count": null,
   "metadata": {},
   "outputs": [],
   "source": [
    "###__test__\n",
    "print(f('Christy Petry'))\n",
    "print(f('Gisela Strong'))\n",
    "print(f('Ellis Ervin'))"
   ]
  },
  {
   "cell_type": "markdown",
   "metadata": {},
   "source": [
    "# Problema 13"
   ]
  },
  {
   "cell_type": "markdown",
   "metadata": {},
   "source": [
    "Escriba una función que reciba el `order.id` de una orden y retorne el cálculo del valor total de la orden."
   ]
  },
  {
   "cell_type": "code",
   "execution_count": null,
   "metadata": {
    "collapsed": true
   },
   "outputs": [],
   "source": [
    "class OrderDetail(object):\n",
    "    def __init__(self, id, order_id, product_id, customer_id, quantity, price):\n",
    "        self.id = id\n",
    "        self.order_id = order_id\n",
    "        self.product_id = product_id\n",
    "        self.customer_id = customer_id\n",
    "        self.quantity = quantity\n",
    "        self.price = price\n",
    "        \n",
    "    @staticmethod\n",
    "    def from_row(row):\n",
    "        return OrderDetail(int(row[0]), int(row[1]), int(row[2]), int(row[3]), int(row[4]), int(row[5]))\n",
    "\n",
    "# Creando mapa de detalles de orden\n",
    "orderdetails_map = {}\n",
    "for od_row in orderdetail[1:]:\n",
    "    od = OrderDetail.from_row(od_row)\n",
    "    orderdetails_map[od.id] = od\n",
    "    \n",
    "# Agregando detalles a las ordenes\n",
    "for o_key in orders_map.keys():\n",
    "    o = orders_map[o_key]\n",
    "    for od_key in orderdetails_map.keys():\n",
    "        od = orderdetails_map[od_key]\n",
    "        if od.order_id == o.order_id:\n",
    "            o.details.append(od)\n",
    "\n",
    "def f1(orderid):\n",
    "    print(orderid)\n",
    "    o = orders_map[orderid]\n",
    "    print(o.order_id)\n",
    "    details = o.details\n",
    "    total = 0\n",
    "    for d in details:\n",
    "        total = total + d.price * d.quantity\n",
    "    print(total)\n",
    "    return total"
   ]
  },
  {
   "cell_type": "code",
   "execution_count": null,
   "metadata": {},
   "outputs": [],
   "source": [
    "###__test__\n",
    "print(f1(1))\n",
    "print(f1(2))\n",
    "print(f1(3))"
   ]
  },
  {
   "cell_type": "markdown",
   "metadata": {},
   "source": [
    "# Problema 14"
   ]
  },
  {
   "cell_type": "markdown",
   "metadata": {},
   "source": [
    "Imprima la cantidad de empleados que nacieron en cada uno de los trimestres (`Q1`, `Q2`, `Q3`, `Q4`) del año. Imprima un trimestre por reglón, separando las cantidades por un espacio en blanco. Por ejemplo: `'Q1 18'`. "
   ]
  },
  {
   "cell_type": "code",
   "execution_count": null,
   "metadata": {
    "collapsed": true
   },
   "outputs": [],
   "source": [
    "#\n",
    "# escriba su codigo aqui\n",
    "#\n",
    "print('hola')"
   ]
  },
  {
   "cell_type": "markdown",
   "metadata": {},
   "source": [
    "# Problema 15"
   ]
  },
  {
   "cell_type": "markdown",
   "metadata": {},
   "source": [
    "Escriba una función que reciba un grupo de cuatro dígitos e imprima la cantidad de veces que aparece dicho número en el segundo grupo de dígitos de todos los números telefónicos."
   ]
  },
  {
   "cell_type": "code",
   "execution_count": null,
   "metadata": {
    "collapsed": true
   },
   "outputs": [],
   "source": [
    "def f(num):\n",
    "    #\n",
    "    # escriba su codigo aqui\n",
    "    #\n",
    "    pass"
   ]
  },
  {
   "cell_type": "code",
   "execution_count": null,
   "metadata": {
    "collapsed": true
   },
   "outputs": [],
   "source": [
    "###__test__\n",
    "print(f('1289'))\n",
    "print(f('2345'))\n",
    "print(f('4876'))"
   ]
  },
  {
   "cell_type": "markdown",
   "metadata": {},
   "source": [
    "---"
   ]
  }
 ],
 "metadata": {
  "kernelspec": {
   "display_name": "Python 3",
   "language": "python",
   "name": "python3"
  },
  "language_info": {
   "codemirror_mode": {
    "name": "ipython",
    "version": 3
   },
   "file_extension": ".py",
   "mimetype": "text/x-python",
   "name": "python",
   "nbconvert_exporter": "python",
   "pygments_lexer": "ipython3",
   "version": "3.6.3"
  }
 },
 "nbformat": 4,
 "nbformat_minor": 1
}
